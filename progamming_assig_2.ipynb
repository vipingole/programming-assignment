{
 "cells": [
  {
   "cell_type": "markdown",
   "id": "dc5f8ec5",
   "metadata": {},
   "source": [
    "1.\tWrite a Python program to convert kilometers to miles?"
   ]
  },
  {
   "cell_type": "code",
   "execution_count": 4,
   "id": "099245e4",
   "metadata": {},
   "outputs": [
    {
     "name": "stdout",
     "output_type": "stream",
     "text": [
      "3\n",
      "1.86 miles\n"
     ]
    }
   ],
   "source": [
    "km = float(input())\n",
    "miles = km * 0.62137\n",
    "print(round(miles,2), \"miles\")"
   ]
  },
  {
   "cell_type": "markdown",
   "id": "a2c36e85",
   "metadata": {},
   "source": [
    "2.\tWrite a Python program to convert Celsius to Fahrenheit?"
   ]
  },
  {
   "cell_type": "code",
   "execution_count": 7,
   "id": "0352492d",
   "metadata": {},
   "outputs": [
    {
     "name": "stdout",
     "output_type": "stream",
     "text": [
      "Temperature in degree Celsius: 12\n",
      "Temperature in degree Fahrenheit: 53.60\n"
     ]
    }
   ],
   "source": [
    "celsius = float(input(\"Temperature in degree Celsius: \" ))   \n",
    "Fahrenheit = (celsius * 1.8) + 32  \n",
    "print('Temperature in degree Fahrenheit: %.2f'  \n",
    "      %Fahrenheit)  "
   ]
  },
  {
   "cell_type": "markdown",
   "id": "923cf619",
   "metadata": {},
   "source": [
    "3.\tWrite a Python program to display calendar?"
   ]
  },
  {
   "cell_type": "code",
   "execution_count": 15,
   "id": "a0dc9cc4",
   "metadata": {},
   "outputs": [
    {
     "name": "stdout",
     "output_type": "stream",
     "text": [
      "month: 3\n",
      "year: 001\n",
      "      March 1\n",
      "Mo Tu We Th Fr Sa Su\n",
      "          1  2  3  4\n",
      " 5  6  7  8  9 10 11\n",
      "12 13 14 15 16 17 18\n",
      "19 20 21 22 23 24 25\n",
      "26 27 28 29 30 31\n",
      "\n"
     ]
    }
   ],
   "source": [
    "import calendar\n",
    "month = int(input('month: '))\n",
    "year = int(input('year: '))\n",
    "print(calendar.month(year,month))"
   ]
  },
  {
   "cell_type": "markdown",
   "id": "436f87a8",
   "metadata": {},
   "source": [
    "4.\tWrite a Python program to solve quadratic equation?"
   ]
  },
  {
   "cell_type": "code",
   "execution_count": 18,
   "id": "1cd8ecbf",
   "metadata": {},
   "outputs": [
    {
     "name": "stdout",
     "output_type": "stream",
     "text": [
      "1\n",
      "10\n",
      "-24\n",
      "2.0 -12.0\n"
     ]
    }
   ],
   "source": [
    "a = int(input())\n",
    "b = int(input())\n",
    "c = int(input())\n",
    "x1 = (-b+(b**2 - 4*a*c)**0.5)//2*a\n",
    "x2 = (-b-(b**2 - 4*a*c)**0.5)//2*a\n",
    "if a == 0:\n",
    "    print('not a Quadratic equation')\n",
    "else:\n",
    "    print(x1,x2)"
   ]
  },
  {
   "cell_type": "markdown",
   "id": "0bc9849f",
   "metadata": {},
   "source": [
    "5.\tWrite a Python program to swap two variables without temp variable?"
   ]
  },
  {
   "cell_type": "code",
   "execution_count": 19,
   "id": "dfc2944c",
   "metadata": {},
   "outputs": [
    {
     "name": "stdout",
     "output_type": "stream",
     "text": [
      "3 1\n"
     ]
    }
   ],
   "source": [
    "a = 1\n",
    "b = 3\n",
    "a,b=b,a\n",
    "print(a,b)"
   ]
  }
 ],
 "metadata": {
  "kernelspec": {
   "display_name": "Python 3",
   "language": "python",
   "name": "python3"
  },
  "language_info": {
   "codemirror_mode": {
    "name": "ipython",
    "version": 3
   },
   "file_extension": ".py",
   "mimetype": "text/x-python",
   "name": "python",
   "nbconvert_exporter": "python",
   "pygments_lexer": "ipython3",
   "version": "3.8.8"
  }
 },
 "nbformat": 4,
 "nbformat_minor": 5
}

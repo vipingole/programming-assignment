{
 "cells": [
  {
   "cell_type": "markdown",
   "id": "d64d516e",
   "metadata": {},
   "source": [
    "1.\tWrite a Python program to convert kilometers to miles?\n",
   ]
  },
  {
   "cell_type": "code",
   "execution_count": 4,
   "id": "16d604d2",
   "metadata": {},
   "outputs": [
    {
     "name": "stdout",
     "output_type": "stream",
     "text": [
      "3\n",
      "1.86 miles\n"
     ]
    }
   ],
   "source": [
    "km = float(input())\n",
    "miles = km * 0.62137\n",
    "print(round(miles,2), \"miles\")"
   ]
  },
  {
   "cell_type": "markdown",
   "id": "d24bd5c9",
   "metadata": {},
   "source": [
    "2.\tWrite a Python program to convert Celsius to Fahrenheit?"
   ]
  },
  {
   "cell_type": "code",
   "execution_count": 7,
   "id": "72748255",
   "metadata": {},
   "outputs": [
    {
     "name": "stdout",
     "output_type": "stream",
     "text": [
      "Temperature in degree Celsius: 12\n",
      "Temperature in degree Fahrenheit: 53.60\n"
     ]
    }
   ],
   "source": [
    "celsius = float(input(\"Temperature in degree Celsius: \" ))   \n",
    "Fahrenheit = (celsius * 1.8) + 32  \n",
    "print('Temperature in degree Fahrenheit: %.2f'  \n",
    "      %Fahrenheit)  "
   ]
  },
  {
   "cell_type": "markdown",
   "id": "fcdd9da3",
   "metadata": {},
   "source": [
    "3.\tWrite a Python program to display calendar?"
   ]
  },
  {
   "cell_type": "code",
   "execution_count": 15,
   "id": "c611ac3e",
   "metadata": {},
   "outputs": [
    {
     "name": "stdout",
     "output_type": "stream",
     "text": [
      "month: 3\n",
      "year: 001\n",
      "      March 1\n",
      "Mo Tu We Th Fr Sa Su\n",
      "          1  2  3  4\n",
      " 5  6  7  8  9 10 11\n",
      "12 13 14 15 16 17 18\n",
      "19 20 21 22 23 24 25\n",
      "26 27 28 29 30 31\n",
      "\n"
     ]
    }
   ],
   "source": [
    "import calendar\n",
    "month = int(input('month: '))\n",
    "year = int(input('year: '))\n",
    "print(calendar.month(year,month))"
   ]
  },
  {
   "cell_type": "code",
   "execution_count": null,
   "id": "abff430c",
   "metadata": {},
   "outputs": [],
   "source": []
  },
  {
   "cell_type": "code",
   "execution_count": 18,
   "id": "9fa7b188",
   "metadata": {},
   "outputs": [
    {
     "name": "stdout",
     "output_type": "stream",
     "text": [
      "1\n",
      "10\n",
      "-24\n",
      "2.0 -12.0\n"
     ]
    }
   ],
   "source": [
    "a = int(input())\n",
    "b = int(input())\n",
    "c = int(input())\n",
    "x1 = (-b+(b**2 - 4*a*c)**0.5)//2*a\n",
    "x2 = (-b-(b**2 - 4*a*c)**0.5)//2*a\n",
    "if a == 0:\n",
    "    print('not a Quadratic equation')\n",
    "else:\n",
    "    print(x1,x2)"
   ]
  },
  {
   "cell_type": "code",
   "execution_count": null,
   "id": "84fa7a47",
   "metadata": {},
   "outputs": [],
   "source": []
  },
  {
   "cell_type": "code",
   "execution_count": 19,
   "id": "73add2ff",
   "metadata": {},
   "outputs": [
    {
     "name": "stdout",
     "output_type": "stream",
     "text": [
      "3 1\n"
     ]
    }
   ],
   "source": [
    "a = 1\n",
    "b = 3\n",
    "a,b=b,a\n",
    "print(a,b)"
   ]
  }
 ],
 "metadata": {
  "kernelspec": {
   "display_name": "Python 3",
   "language": "python",
   "name": "python3"
  },
  "language_info": {
   "codemirror_mode": {
    "name": "ipython",
    "version": 3
   },
   "file_extension": ".py",
   "mimetype": "text/x-python",
   "name": "python",
   "nbconvert_exporter": "python",
   "pygments_lexer": "ipython3",
   "version": "3.8.8"
  }
 },
 "nbformat": 4,
 "nbformat_minor": 5
}

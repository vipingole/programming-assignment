{
 "cells": [
  {
   "cell_type": "markdown",
   "id": "56ecf00d",
   "metadata": {},
   "source": [
    "1.\tWrite a Python Program to find sum of array?\n",
    "2.\tWrite a Python Program to find largest element in an array?\n",
    "3.\tWrite a Python Program for array rotation?\n",
    "4.\tWrite a Python Program to Split the array and add the first part to the end?\n",
    "5.\tWrite a Python Program to check if given array is Monotonic?\n"
   ]
  },
  {
   "cell_type": "code",
   "execution_count": 4,
   "id": "e0bb7677",
   "metadata": {},
   "outputs": [
    {
     "name": "stdout",
     "output_type": "stream",
     "text": [
      "number of element: 5\n",
      "22\n",
      "33\n",
      "22\n",
      "12\n",
      "22\n",
      "[22, 33, 22, 12, 22]\n",
      "sum of array is 111.\n"
     ]
    }
   ],
   "source": [
    "#1.Write a Python Program to find sum of array?\n",
    "def sum_of_array(array):\n",
    "    return sum(array)\n",
    "\n",
    "lst = []\n",
    "n = int(input('number of element: '))\n",
    "for i in range(n):\n",
    "    lst.append(int(input()))\n",
    "print(lst)    \n",
    "print(f'sum of array is {sum_of_array(lst)}.')\n"
   ]
  },
  {
   "cell_type": "code",
   "execution_count": 1,
   "id": "45ee6c2d",
   "metadata": {},
   "outputs": [
    {
     "name": "stdout",
     "output_type": "stream",
     "text": [
      "number of element: 10\n",
      "11\n",
      "22\n",
      "231\n",
      "42\n",
      "242\n",
      "235\n",
      "23\n",
      "324\n",
      "231\n",
      "2346\n",
      "[11, 22, 231, 42, 242, 235, 23, 324, 231, 2346]\n",
      "largest element in given array is: 2346\n"
     ]
    }
   ],
   "source": [
    "#2.\tWrite a Python Program to find largest element in an array?\n",
    "lst = []\n",
    "\n",
    "n = int(input('number of element: '))\n",
    "for i in range(n):\n",
    "    lst.append(int(input()))\n",
    "print(lst)    \n",
    "lst.sort()\n",
    "print(f\"largest element in given array is: {lst[-1]}\")\n"
   ]
  },
  {
   "cell_type": "code",
   "execution_count": 2,
   "id": "cedf2696",
   "metadata": {},
   "outputs": [
    {
     "name": "stdout",
     "output_type": "stream",
     "text": [
      "Before reversal Array is : [11, 22, 33, 44, 55]\n",
      "After reversing Array: [55, 44, 33, 22, 11]\n"
     ]
    }
   ],
   "source": [
    "#3.\tWrite a Python Program for array rotation?\n",
    "arr = [11, 22, 33, 44, 55]\n",
    "print(\"Before reversal Array is :\",arr)\n",
    " \n",
    "arr.reverse()\n",
    "print(\"After reversing Array:\",arr)"
   ]
  },
  {
   "cell_type": "code",
   "execution_count": 2,
   "id": "b3d5e94c",
   "metadata": {},
   "outputs": [
    {
     "name": "stdout",
     "output_type": "stream",
     "text": [
      "enter array: 12 22 33 44 55 656 645\n",
      "index for split: 2\n",
      "33 44 55 656 645 12 22 "
     ]
    }
   ],
   "source": [
    "#4.\tWrite a Python Program to Split the array and add the first part to the end?\n",
    "def splitArr(a, n, k): \n",
    "   b = a[:k]\n",
    "   return (a[k::]+b[::])\n",
    "          \n",
    "arr = [int(i) for i in input('enter array: ').split()]\n",
    "n = len(arr)\n",
    "position = int(input('index for split: '))\n",
    "arr = splitArr(arr, n, position)\n",
    "for i in range(0, n): \n",
    "    print(arr[i], end = ' ')"
   ]
  },
  {
   "cell_type": "code",
   "execution_count": 16,
   "id": "b45f4093",
   "metadata": {},
   "outputs": [
    {
     "name": "stdout",
     "output_type": "stream",
     "text": [
      "enter array: 20 21 19 12\n",
      "given array is not monotonic\n"
     ]
    }
   ],
   "source": [
    "#5.\tWrite a Python Program to check if given array is Monotonic?\n",
    "def ck_mono_array(arry):\n",
    "    inc = False\n",
    "    dec = False\n",
    "    for i in range(0,len(arry)-1):\n",
    "        \n",
    "        if arry[i] < arry[i+1]:\n",
    "            inc = True\n",
    "        else:\n",
    "            inc = False\n",
    "            break\n",
    "    \n",
    "    for i in range(0,len(arry)-1):\n",
    "        \n",
    "        if arry[i] > arry[i+1]:\n",
    "            dec = True\n",
    "        else:\n",
    "            dec = False\n",
    "            break\n",
    "            \n",
    "    return inc or dec\n",
    "\n",
    "arry = [int(i) for i in input('enter array: ').split()]\n",
    "\n",
    "if ck_mono_array(arry):\n",
    "    print('Give array is monotonic')\n",
    "    \n",
    "else:\n",
    "    print('given array is not monotonic')\n"
   ]
  },
  {
   "cell_type": "code",
   "execution_count": null,
   "id": "a6311c07",
   "metadata": {},
   "outputs": [],
   "source": []
  }
 ],
 "metadata": {
  "kernelspec": {
   "display_name": "Python 3",
   "language": "python",
   "name": "python3"
  },
  "language_info": {
   "codemirror_mode": {
    "name": "ipython",
    "version": 3
   },
   "file_extension": ".py",
   "mimetype": "text/x-python",
   "name": "python",
   "nbconvert_exporter": "python",
   "pygments_lexer": "ipython3",
   "version": "3.8.8"
  }
 },
 "nbformat": 4,
 "nbformat_minor": 5
}

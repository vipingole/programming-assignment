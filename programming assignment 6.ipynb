{
 "cells": [
  {
   "cell_type": "markdown",
   "id": "71c6b22e",
   "metadata": {},
   "source": [
    "1.\tWrite a Python Program to Display Fibonacci Sequence Using Recursion?\n",
    "2.\tWrite a Python Program to Find Factorial of Number Using Recursion?\n",
    "3.\tWrite a Python Program to calculate your Body Mass Index?\n",
    "4.\tWrite a Python Program to calculate the natural logarithm of any number?\n",
    "5.\tWrite a Python Program for cube sum of first n natural numbers?\n"
   ]
  },
  {
   "cell_type": "code",
   "execution_count": 28,
   "id": "6412b74f",
   "metadata": {},
   "outputs": [
    {
     "name": "stdout",
     "output_type": "stream",
     "text": [
      "enter the nth term: 10\n",
      "Fibonacci sequence:\n",
      "0\n",
      "1\n",
      "1\n",
      "2\n",
      "3\n",
      "5\n",
      "8\n",
      "13\n",
      "21\n",
      "34\n"
     ]
    }
   ],
   "source": [
    "#Write a Python Program to Display Fibonacci Sequence Using Recursion?\n",
    "def fibonacii_seq(n):\n",
    "   if n <= 1:\n",
    "       return n\n",
    "   else:\n",
    "       return(fibonacii_seq(n-1) + fibonacii_seq(n-2))\n",
    "\n",
    "nterms = int(input('enter the nth term: '))\n",
    "\n",
    "# check if the number of terms is valid\n",
    "if nterms <= 0:\n",
    "   print(\"Plese enter a positive integer\")\n",
    "else:\n",
    "   print(\"Fibonacci sequence:\")\n",
    "   for i in range(nterms):\n",
    "       print(recur_fibo(i))"
   ]
  },
  {
   "cell_type": "code",
   "execution_count": 32,
   "id": "5faaad6f",
   "metadata": {},
   "outputs": [
    {
     "name": "stdout",
     "output_type": "stream",
     "text": [
      "enter number: 4\n",
      "24\n"
     ]
    }
   ],
   "source": [
    "#Write a Python Program to Find Factorial of Number Using Recursion?\n",
    "def factorial_number(n):\n",
    "    if n==0 or n==1:\n",
    "        return 1\n",
    "    else:\n",
    "        return n*factorial_number(n-1)\n",
    "    \n",
    "n = int(input('enter number: '))\n",
    "print(factorial_number(n))"
   ]
  },
  {
   "cell_type": "code",
   "execution_count": 45,
   "id": "3d3bf763",
   "metadata": {},
   "outputs": [
    {
     "name": "stdout",
     "output_type": "stream",
     "text": [
      "enter weight in kg: 75\n",
      "enter height in cm: 165\n",
      "Body Mass Index is 27.55 kg/m2\n"
     ]
    }
   ],
   "source": [
    "#Write a Python Program to calculate your Body Mass Index?\n",
    "def BMI(weight,height):\n",
    "    return round(weight/(height*height),2)\n",
    "\n",
    "#enter weight in kg and height in cm.\n",
    "weight = int(input('enter weight in kg: '))\n",
    "\n",
    "#convert height from cm to meter by dividing with 100\n",
    "height = int(input('enter height in cm: '))*0.01 \n",
    "\n",
    "print(f'Body Mass Index is {BMI(weight, height)} kg/m2')"
   ]
  },
  {
   "cell_type": "code",
   "execution_count": 48,
   "id": "6f7165d2",
   "metadata": {},
   "outputs": [
    {
     "name": "stdout",
     "output_type": "stream",
     "text": [
      "3\n",
      "1.0986122886681098\n"
     ]
    }
   ],
   "source": [
    "#Write a Python Program to calculate the natural logarithm of any number?\n",
    "import math\n",
    "\n",
    "n = int(input())\n",
    "\n",
    "print(math.log(n))"
   ]
  },
  {
   "cell_type": "code",
   "execution_count": 3,
   "id": "cc9fdcfa",
   "metadata": {},
   "outputs": [
    {
     "name": "stdout",
     "output_type": "stream",
     "text": [
      "3\n",
      "36\n"
     ]
    }
   ],
   "source": [
    "#Write a Python Program for cube sum of first n natural numbers?\n",
    "def sum_of_series(n):\n",
    "\n",
    "    sum=0\n",
    "    \n",
    "    for i in range(n+1):\n",
    "        sum += i*i*i\n",
    "    return sum\n",
    "\n",
    "\n",
    "n = int(input())\n",
    "print(sum_of_series(n))"
   ]
  }
 ],
 "metadata": {
  "kernelspec": {
   "display_name": "Python 3",
   "language": "python",
   "name": "python3"
  },
  "language_info": {
   "codemirror_mode": {
    "name": "ipython",
    "version": 3
   },
   "file_extension": ".py",
   "mimetype": "text/x-python",
   "name": "python",
   "nbconvert_exporter": "python",
   "pygments_lexer": "ipython3",
   "version": "3.8.8"
  }
 },
 "nbformat": 4,
 "nbformat_minor": 5
}

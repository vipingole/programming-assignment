{
 "cells": [
  {
   "cell_type": "markdown",
   "id": "d6f50858",
   "metadata": {},
   "source": [
    "1.Write a Python Program to Find LCM?"
   ]
  },
  {
   "cell_type": "code",
   "execution_count": 1,
   "id": "ac9a8c7d",
   "metadata": {},
   "outputs": [
    {
     "name": "stdout",
     "output_type": "stream",
     "text": [
      "22\n",
      "33\n",
      "LCM is: 66\n"
     ]
    }
   ],
   "source": [
    "a= int(input())\n",
    "b=int(input())\n",
    "if(a>b):\n",
    "    min1=a\n",
    "else:\n",
    "    min1=b\n",
    "while(True):\n",
    "    if(min1%a==0 and min1%b==0):\n",
    "        print(\"LCM is:\",min1)\n",
    "        break\n",
    "    min1=min1+1"
   ]
  },
  {
   "cell_type": "markdown",
   "id": "5e160692",
   "metadata": {},
   "source": [
    "2.Write a Python Program to Find HCF?"
   ]
  },
  {
   "cell_type": "code",
   "execution_count": 2,
   "id": "767bc0be",
   "metadata": {},
   "outputs": [
    {
     "name": "stdout",
     "output_type": "stream",
     "text": [
      "3\n",
      "98\n",
      "HCF is: 2\n"
     ]
    }
   ],
   "source": [
    "a= int(input())\n",
    "b= int(input())\n",
    "if(a>b):\n",
    "    max1=a\n",
    "    min1=b\n",
    "else:\n",
    "    max1=b\n",
    "    min1=a\n",
    "while(True):\n",
    "    if(max1%min1==0):\n",
    "        print('HCF is:',min1)\n",
    "        break\n",
    "    min1=max1%min1"
   ]
  },
  {
   "cell_type": "markdown",
   "id": "f7c8f26b",
   "metadata": {},
   "source": [
    "3.Write a Python Program to Convert Decimal to Binary, Octal and Hexadecimal?"
   ]
  },
  {
   "cell_type": "code",
   "execution_count": 3,
   "id": "5eed6457",
   "metadata": {},
   "outputs": [
    {
     "name": "stdout",
     "output_type": "stream",
     "text": [
      "3\n",
      "0b11 0o3 0x3\n"
     ]
    }
   ],
   "source": [
    "a = int(input())\n",
    "print(bin(a),oct(a),hex(a))"
   ]
  },
  {
   "cell_type": "markdown",
   "id": "2b5c99cd",
   "metadata": {},
   "source": [
    "4.Write a Python Program To Find ASCII value of a character?"
   ]
  },
  {
   "cell_type": "code",
   "execution_count": 4,
   "id": "655c000c",
   "metadata": {},
   "outputs": [
    {
     "name": "stdout",
     "output_type": "stream",
     "text": [
      "g\n"
     ]
    },
    {
     "data": {
      "text/plain": [
       "103"
      ]
     },
     "execution_count": 4,
     "metadata": {},
     "output_type": "execute_result"
    }
   ],
   "source": [
    "ch=input()\n",
    "ord(ch)"
   ]
  },
  {
   "cell_type": "markdown",
   "id": "ab90b2f9",
   "metadata": {},
   "source": [
    "5.Write a Python Program to Make a Simple Calculator with 4 basic mathematical operations?"
   ]
  },
  {
   "cell_type": "code",
   "execution_count": 6,
   "id": "637dc1cf",
   "metadata": {},
   "outputs": [
    {
     "name": "stdout",
     "output_type": "stream",
     "text": [
      "33\n",
      "/\n",
      "2\n",
      "16.5\n"
     ]
    }
   ],
   "source": [
    "a = int(input())\n",
    "symbol = input()\n",
    "b = int(input())\n",
    "if ord(symbol) == ord('+'):\n",
    "    print(a+b)\n",
    "elif ord(symbol) == ord('-'):\n",
    "    print(a-b)\n",
    "elif ord(symbol) == ord('*'):\n",
    "    print(a*b)\n",
    "else:\n",
    "    print(a/b)"
   ]
  }
 ],
 "metadata": {
  "kernelspec": {
   "display_name": "Python 3",
   "language": "python",
   "name": "python3"
  },
  "language_info": {
   "codemirror_mode": {
    "name": "ipython",
    "version": 3
   },
   "file_extension": ".py",
   "mimetype": "text/x-python",
   "name": "python",
   "nbconvert_exporter": "python",
   "pygments_lexer": "ipython3",
   "version": "3.8.8"
  }
 },
 "nbformat": 4,
 "nbformat_minor": 5
}

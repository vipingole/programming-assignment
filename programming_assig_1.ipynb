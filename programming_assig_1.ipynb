{
 "cells": [
  {
   "cell_type": "markdown",
   "id": "f3046ca4",
   "metadata": {},
   "source": [
    "Write a program to print \"Hello Python\"?"
   ]
  },
  {
   "cell_type": "code",
   "execution_count": 1,
   "id": "2ff35962",
   "metadata": {},
   "outputs": [
    {
     "name": "stdout",
     "output_type": "stream",
     "text": [
      "Hello Python\n"
     ]
    }
   ],
   "source": [
    "print('Hello Python')"
   ]
  },
  {
   "cell_type": "markdown",
   "id": "0f47160c",
   "metadata": {},
   "source": [
    "2.Write a Python program to do arithmetical operations addition and division.?"
   ]
  },
  {
   "cell_type": "code",
   "execution_count": 4,
   "id": "f31c5298",
   "metadata": {},
   "outputs": [
    {
     "name": "stdout",
     "output_type": "stream",
     "text": [
      "Addition- 9\n",
      "Subtraction- 3\n",
      "Multiplycation- 18\n",
      "Division- 2\n"
     ]
    }
   ],
   "source": [
    "a = 6 \n",
    "b = 3\n",
    "print('Addition-', a+b)\n",
    "print('Subtraction-',a-b)\n",
    "print('Multiplycation-',a*b)\n",
    "print('Division-', a//b)"
   ]
  },
  {
   "cell_type": "markdown",
   "id": "50578b48",
   "metadata": {},
   "source": [
    "3.Write a Python program to find the area of a triangle?"
   ]
  },
  {
   "cell_type": "code",
   "execution_count": 5,
   "id": "b343f796",
   "metadata": {},
   "outputs": [
    {
     "name": "stdout",
     "output_type": "stream",
     "text": [
      "Area of Triangle is 3 cm²\n"
     ]
    }
   ],
   "source": [
    "base = 2\n",
    "height = 3\n",
    "area_of_triangle = (base * height) //2\n",
    "print(\"Area of Triangle is\",area_of_triangle,'cm\\u00b2')"
   ]
  },
  {
   "cell_type": "markdown",
   "id": "9dfd6d14",
   "metadata": {},
   "source": [
    "4.Write a Python program to swap two variables?"
   ]
  },
  {
   "cell_type": "code",
   "execution_count": 6,
   "id": "81cf9787",
   "metadata": {},
   "outputs": [
    {
     "name": "stdout",
     "output_type": "stream",
     "text": [
      "1 3\n"
     ]
    }
   ],
   "source": [
    "a = 3\n",
    "b = 1\n",
    "temp = 3\n",
    "a = b\n",
    "b = temp\n",
    "print(a,b)"
   ]
  },
  {
   "cell_type": "markdown",
   "id": "2b417bda",
   "metadata": {},
   "source": [
    "5.Write a Python program to generate a random number?"
   ]
  },
  {
   "cell_type": "code",
   "execution_count": 7,
   "id": "04a44a1c",
   "metadata": {},
   "outputs": [
    {
     "name": "stdout",
     "output_type": "stream",
     "text": [
      "0.23290340048019575\n"
     ]
    }
   ],
   "source": [
    "import random\n",
    "print(random.random())"
   ]
  }
 ],
 "metadata": {
  "kernelspec": {
   "display_name": "Python 3",
   "language": "python",
   "name": "python3"
  },
  "language_info": {
   "codemirror_mode": {
    "name": "ipython",
    "version": 3
   },
   "file_extension": ".py",
   "mimetype": "text/x-python",
   "name": "python",
   "nbconvert_exporter": "python",
   "pygments_lexer": "ipython3",
   "version": "3.8.8"
  }
 },
 "nbformat": 4,
 "nbformat_minor": 5
}
